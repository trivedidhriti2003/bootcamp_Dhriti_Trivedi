{
 "cells": [
  {
   "cell_type": "markdown",
   "id": "5b5264df-5705-473d-8f78-f999ad9b2cfe",
   "metadata": {},
   "source": [
    "# Data Preprocessing & Cleaning"
   ]
  },
  {
   "cell_type": "code",
   "execution_count": 7,
   "id": "cb7c358a-03fb-4196-886c-fa807c752d69",
   "metadata": {},
   "outputs": [
    {
     "name": "stdout",
     "output_type": "stream",
     "text": [
      "Excel file loaded successfully!\n",
      "\n",
      "           Date      Open      High       Low     Close  Adj Close     Volume\n",
      "0  Apr 28, 2023  33797.43  34104.56  33728.40  34098.16   34098.16  354310000\n",
      "1  Apr 27, 2023  33381.66  33859.75  33374.65  33826.16   33826.16  343240000\n",
      "2  Apr 26, 2023  33596.34  33645.83  33235.85  33301.87   33301.87  321170000\n",
      "3  Apr 25, 2023  33828.34  33875.49  33525.39  33530.83   33530.83  297880000\n",
      "4  Apr 24, 2023  33805.04  33891.15  33726.09  33875.40   33875.40  252020000\n"
     ]
    }
   ],
   "source": [
    "import pandas as pd\n",
    "\n",
    "# Use 'r' before the path to ensure backslashes are read correctly on Windows\n",
    "file_path = r\"C:\\Users\\DELL\\bootcamp_Dhriti_Trivedi\\Project\\Data\\raw\\yahoo_data.xlsx\"\n",
    "\n",
    "try:\n",
    "    # Use pd.read_excel() because the file is an Excel workbook\n",
    "    df = pd.read_excel(file_path)\n",
    "    print(\"Excel file loaded successfully!\")\n",
    "    print(\"\")\n",
    "    \n",
    "    # Print the first 5 rows to verify\n",
    "    print(df.head())\n",
    "\n",
    "except FileNotFoundError:\n",
    "    print(f\"Error: The file was not found at the path: {file_path}\")\n",
    "except Exception as e:\n",
    "    print(f\"An error occurred: {e}\")"
   ]
  },
  {
   "cell_type": "code",
   "execution_count": 11,
   "id": "cb29807e-c992-42eb-ba1c-f4f590dc6fc1",
   "metadata": {},
   "outputs": [
    {
     "name": "stdout",
     "output_type": "stream",
     "text": [
      "\n",
      "--- Data After Sorting and Indexing ---\n",
      "                Open      High       Low     Close  Adj Close     Volume\n",
      "Date                                                                    \n",
      "2018-05-01  24117.29  24117.29  23808.19  24099.05   24099.05  380070000\n",
      "2018-05-02  24097.63  24185.52  23886.30  23924.98   23924.98  385350000\n",
      "2018-05-03  23836.23  23996.15  23531.31  23930.15   23930.15  389240000\n",
      "2018-05-04  23865.22  24333.35  23778.87  24262.51   24262.51  329480000\n",
      "2018-05-07  24317.66  24479.45  24263.42  24357.32   24357.32  307670000\n"
     ]
    }
   ],
   "source": [
    "#convert the 'Date' column from text to a proper datetime format.\n",
    "df['Date'] = pd.to_datetime(df['Date'])\n",
    "\n",
    "# Set the 'Date' column as the DataFrame index, which is best practice for time-series data.\n",
    "df.set_index('Date', inplace=True)\n",
    "\n",
    "# The data is loaded in reverse chronological order. Sort it from oldest to newest.\n",
    "df.sort_index(inplace=True)\n",
    "\n",
    "print(\"\\n--- Data After Sorting and Indexing ---\")\n",
    "print(df.head())\n",
    "\n"
   ]
  },
  {
   "cell_type": "code",
   "execution_count": 15,
   "id": "9c85af74-4c9d-49c4-b5d6-e4cc11618090",
   "metadata": {},
   "outputs": [
    {
     "name": "stdout",
     "output_type": "stream",
     "text": [
      "\n",
      "--- Missing Value Check ---\n",
      "No missing values found. The dataset is complete.\n",
      "\n",
      "--- Final DataFrame Info ---\n",
      "<class 'pandas.core.frame.DataFrame'>\n",
      "DatetimeIndex: 1258 entries, 2018-05-01 to 2023-04-28\n",
      "Data columns (total 6 columns):\n",
      " #   Column     Non-Null Count  Dtype  \n",
      "---  ------     --------------  -----  \n",
      " 0   Open       1258 non-null   float64\n",
      " 1   High       1258 non-null   float64\n",
      " 2   Low        1258 non-null   float64\n",
      " 3   Close      1258 non-null   float64\n",
      " 4   Adj Close  1258 non-null   float64\n",
      " 5   Volume     1258 non-null   int64  \n",
      "dtypes: float64(5), int64(1)\n",
      "memory usage: 68.8 KB\n"
     ]
    }
   ],
   "source": [
    "# --- 3. Verify Data Integrity ---\n",
    "# Check for any missing values in the dataset.\n",
    "print(\"\\n--- Missing Value Check ---\")\n",
    "if df.isnull().sum().sum() == 0:\n",
    "    print(\"No missing values found. The dataset is complete.\")\n",
    "else:\n",
    "    print(\"Missing values detected:\")\n",
    "    print(df.isnull().sum())\n",
    "\n",
    "# Display the final data types and summary.\n",
    "print(\"\\n--- Final DataFrame Info ---\")\n",
    "df.info()"
   ]
  },
  {
   "cell_type": "code",
   "execution_count": 21,
   "id": "bcf344e6-2b7e-4820-bfff-9a6ee439ddda",
   "metadata": {},
   "outputs": [
    {
     "name": "stdout",
     "output_type": "stream",
     "text": [
      "\n",
      " Cleaned data saved to: C:\\Users\\DELL\\bootcamp_Dhriti_Trivedi\\Project\\Data\\processed\\yahoo_data_cleaned.csv\n"
     ]
    }
   ],
   "source": [
    "# --- 4. Save the Cleaned Data ---\n",
    "output_path = r\"C:\\Users\\DELL\\bootcamp_Dhriti_Trivedi\\Project\\Data\\processed\\yahoo_data_cleaned.csv\"\n",
    "\n",
    "# Save the DataFrame to that specific path\n",
    "df.to_csv(output_path)\n",
    "print(f\"\\n Cleaned data saved to: {output_path}\")"
   ]
  },
  {
   "cell_type": "code",
   "execution_count": null,
   "id": "072e05bf-8366-4d1a-903c-49f3a063b2ef",
   "metadata": {},
   "outputs": [],
   "source": []
  }
 ],
 "metadata": {
  "kernelspec": {
   "display_name": "Python [conda env:base] *",
   "language": "python",
   "name": "conda-base-py"
  },
  "language_info": {
   "codemirror_mode": {
    "name": "ipython",
    "version": 3
   },
   "file_extension": ".py",
   "mimetype": "text/x-python",
   "name": "python",
   "nbconvert_exporter": "python",
   "pygments_lexer": "ipython3",
   "version": "3.12.7"
  }
 },
 "nbformat": 4,
 "nbformat_minor": 5
}
