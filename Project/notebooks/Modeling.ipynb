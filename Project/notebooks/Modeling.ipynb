{
 "cells": [
  {
   "cell_type": "markdown",
   "id": "815e75d0-c1b6-4d26-9e19-2122119f8fbf",
   "metadata": {},
   "source": [
    "## Part 1: New Regression Analysis"
   ]
  },
  {
   "cell_type": "code",
   "execution_count": null,
   "id": "f85db003-d48c-4a7e-b1e7-ef3ddc6e610c",
   "metadata": {},
   "outputs": [],
   "source": [
    "# Import necessary libraries\n",
    "import pandas as pd\n",
    "import seaborn as sns\n",
    "import os\n",
    "import matplotlib.pyplot as plt\n",
    "import statsmodels.api as sm\n",
    "from sklearn.model_selection import train_test_split\n",
    "from sklearn.linear_model import LogisticRegression\n",
    "from sklearn.metrics import accuracy_score, confusion_matrix"
   ]
  },
  {
   "cell_type": "code",
   "execution_count": 9,
   "id": "f62d3a3b-eba1-4c3c-8140-2cad62eaa72f",
   "metadata": {},
   "outputs": [
    {
     "name": "stdout",
     "output_type": "stream",
     "text": [
      "Cleaned dataset loaded successfully!\n",
      "\n",
      "--- Original features created. ---\n",
      "\n",
      "--- Volatility features created. ---\n",
      "\n",
      "--- Moving average features created. ---\n",
      "\n",
      "--- Final Advanced Dataset for Modeling ---\n",
      "\n",
      " Advanced features dataset saved to: C:\\Users\\DELL\\bootcamp_Dhriti_Trivedi\\Project\\Data\\processed\\yahoo_data_advanced_features.csv\n"
     ]
    }
   ],
   "source": [
    "# --- Load the Cleaned Data ---\n",
    "cleaned_file_path = r\"C:\\Users\\DELL\\bootcamp_Dhriti_Trivedi\\Project\\Data\\processed\\yahoo_data_cleaned.csv\"\n",
    "\n",
    "try:\n",
    "    df = pd.read_csv(cleaned_file_path, index_col='Date', parse_dates=True)\n",
    "    print(\"Cleaned dataset loaded successfully!\")\n",
    "except FileNotFoundError:\n",
    "    print(f\" Error: The file was not found at the path: {cleaned_file_path}\")\n",
    "    exit()\n",
    "\n",
    "# --- Original Feature Engineering ---\n",
    "df['Daily_Return'] = df['Adj Close'].pct_change() * 100\n",
    "df['Volume_Change'] = df['Volume'].pct_change() * 100\n",
    "df['Volume_Change_Lag1'] = df['Volume_Change'].shift(1)\n",
    "print(\"\\n--- Original features created. ---\")\n",
    "\n",
    "# --- Part A: Engineering Volatility Features ---\n",
    "df['Volatility'] = (df['High'] - df['Low']) / df['Close'] * 100\n",
    "median_volatility = df['Volatility'].median()\n",
    "df['Is_High_Volatility'] = (df['Volatility'] > median_volatility).astype(int)\n",
    "print(f\"\\n--- Volatility features created. ---\")\n",
    "\n",
    "# --- Part B: Engineering Moving Average Features ---\n",
    "df['Volume_MA50'] = df['Volume'].rolling(window=50).mean()\n",
    "df['Volume_vs_Avg'] = (df['Volume'] - df['Volume_MA50']) / df['Volume_MA50'] * 100\n",
    "print(\"\\n--- Moving average features created. ---\")\n",
    "\n",
    "# --- Finalize the Feature Set ---\n",
    "df_advanced_model = df.dropna()\n",
    "print(f\"\\n--- Final Advanced Dataset for Modeling ---\")\n",
    "\n",
    "# --- Save the Final Engineered Features ---\n",
    "output_folder = r\"C:\\Users\\DELL\\bootcamp_Dhriti_Trivedi\\Project\\Data\\processed\"\n",
    "output_file_path = os.path.join(output_folder, 'yahoo_data_advanced_features.csv')\n",
    "df_advanced_model.to_csv(output_file_path)\n",
    "print(f\"\\n Advanced features dataset saved to: {output_file_path}\")\n"
   ]
  },
  {
   "cell_type": "code",
   "execution_count": 15,
   "id": "ce8645db-5ccf-4c9c-828b-aae08dc22381",
   "metadata": {},
   "outputs": [
    {
     "name": "stdout",
     "output_type": "stream",
     "text": [
      "Advanced features dataset loaded successfully!\n"
     ]
    }
   ],
   "source": [
    "# --- Cell 1: Load the Advanced Features Data ---\n",
    "# Load the dataset we created in the updated Notebook 4.\n",
    "adv_features_path = r\"C:\\Users\\DELL\\bootcamp_Dhriti_Trivedi\\Project\\Data\\processed\\yahoo_data_advanced_features.csv\"\n",
    "\n",
    "try:\n",
    "    df = pd.read_csv(adv_features_path, index_col='Date', parse_dates=True)\n",
    "    print(\"Advanced features dataset loaded successfully!\")\n",
    "except FileNotFoundError:\n",
    "    print(f\" Error: The file was not found at the path: {adv_features_path}\")\n",
    "    exit()"
   ]
  },
  {
   "cell_type": "code",
   "execution_count": 13,
   "id": "10ab83c3-de9b-492b-8cf1-b802ef9d7275",
   "metadata": {},
   "outputs": [
    {
     "name": "stdout",
     "output_type": "stream",
     "text": [
      "\n",
      "--- Experiment 1: Predicting Daily Return with Volume vs. 50-Day Average ---\n",
      "                            OLS Regression Results                            \n",
      "==============================================================================\n",
      "Dep. Variable:           Daily_Return   R-squared:                       0.002\n",
      "Model:                            OLS   Adj. R-squared:                  0.001\n",
      "Method:                 Least Squares   F-statistic:                     1.938\n",
      "Date:                Sun, 24 Aug 2025   Prob (F-statistic):              0.164\n",
      "Time:                        18:49:13   Log-Likelihood:                -2092.7\n",
      "No. Observations:                1208   AIC:                             4189.\n",
      "Df Residuals:                    1206   BIC:                             4200.\n",
      "Df Model:                           1                                         \n",
      "Covariance Type:            nonrobust                                         \n",
      "=================================================================================\n",
      "                    coef    std err          t      P>|t|      [0.025      0.975]\n",
      "---------------------------------------------------------------------------------\n",
      "const             0.0369      0.039      0.938      0.349      -0.040       0.114\n",
      "Volume_vs_Avg    -0.0021      0.001     -1.392      0.164      -0.005       0.001\n",
      "==============================================================================\n",
      "Omnibus:                      316.022   Durbin-Watson:                   2.388\n",
      "Prob(Omnibus):                  0.000   Jarque-Bera (JB):            15094.727\n",
      "Skew:                          -0.348   Prob(JB):                         0.00\n",
      "Kurtosis:                      20.303   Cond. No.                         26.7\n",
      "==============================================================================\n",
      "\n",
      "Notes:\n",
      "[1] Standard Errors assume that the covariance matrix of the errors is correctly specified.\n"
     ]
    }
   ],
   "source": [
    "# --- Part 1: New Regression Analysis ---\n",
    "# Hypothesis: Can yesterday's volume relative to its average predict today's return?\n",
    "print(\"\\n--- Experiment 1: Predicting Daily Return with Volume vs. 50-Day Average ---\")\n",
    "\n",
    "# Define our variables\n",
    "y_regr = df['Daily_Return']\n",
    "# We use .shift(1) to use the previous day's data to predict today's return\n",
    "X_regr = df['Volume_vs_Avg'].shift(1)\n",
    "\n",
    "# Drop NaN values created by the shift\n",
    "X_regr.dropna(inplace=True)\n",
    "y_regr = y_regr.loc[X_regr.index] # Align y with the new index of X\n",
    "\n",
    "# Add a constant for the intercept\n",
    "X_regr_const = sm.add_constant(X_regr)\n",
    "\n",
    "# Create and fit the new OLS model\n",
    "model_regr = sm.OLS(y_regr, X_regr_const)\n",
    "results_regr = model_regr.fit()\n",
    "\n",
    "# Print the summary. Check R-squared and the p-value for 'Volume_vs_Avg'.\n",
    "print(results_regr.summary())\n"
   ]
  },
  {
   "cell_type": "code",
   "execution_count": 17,
   "id": "99db8e84-e4f6-48d2-af4f-df39cf9c7447",
   "metadata": {},
   "outputs": [
    {
     "name": "stdout",
     "output_type": "stream",
     "text": [
      "\n",
      "\n",
      "--- Experiment 2: Predicting High Volatility Days (Classification) ---\n",
      "\n",
      "Training set size: 967 samples\n",
      "Testing set size: 242 samples\n",
      "\n",
      "Model Accuracy on Test Data: 51.65%\n",
      "\n",
      "--- Confusion Matrix ---\n"
     ]
    },
    {
     "data": {
      "image/png": "[encoded data removed]",
      "text/plain": [
       "<Figure size 640x480 with 2 Axes>"
      ]
     },
     "metadata": {},
     "output_type": "display_data"
    }
   ],
   "source": [
    "# --- Part 2: New Classification Analysis ---\n",
    "# Hypothesis: Can yesterday's volume change predict if today will be a high-volatility day?\n",
    "print(\"\\n\\n--- Experiment 2: Predicting High Volatility Days (Classification) ---\")\n",
    "\n",
    "# Define our variables\n",
    "y_class = df['Is_High_Volatility']\n",
    "X_class = df[['Volume_Change_Lag1']] # Predictor must be a DataFrame\n",
    "\n",
    "# Drop NaNs\n",
    "df_class = pd.concat([y_class, X_class], axis=1).dropna()\n",
    "y_class = df_class['Is_High_Volatility']\n",
    "X_class = df_class[['Volume_Change_Lag1']]\n",
    "\n",
    "# --- Split data into training and testing sets ---\n",
    "# We train the model on 80% of the data and test its performance on the 20% it has never seen.\n",
    "X_train, X_test, y_train, y_test = train_test_split(X_class, y_class, test_size=0.2, random_state=42)\n",
    "\n",
    "print(f\"\\nTraining set size: {len(X_train)} samples\")\n",
    "print(f\"Testing set size: {len(X_test)} samples\")\n",
    "\n",
    "# --- Build and train the Logistic Regression model ---\n",
    "# We use Logistic Regression because our target is binary (0 or 1).\n",
    "model_class = LogisticRegression()\n",
    "model_class.fit(X_train, y_train)\n",
    "\n",
    "# --- Evaluate the model on the test set ---\n",
    "y_pred = model_class.predict(X_test)\n",
    "accuracy = accuracy_score(y_test, y_pred)\n",
    "print(f\"\\nModel Accuracy on Test Data: {accuracy:.2%}\")\n",
    "\n",
    "\n",
    "# The confusion matrix gives us a better look at performance.\n",
    "print(\"\\n--- Confusion Matrix ---\")\n",
    "cm = confusion_matrix(y_test, y_pred)\n",
    "sns.heatmap(cm, annot=True, fmt='d', cmap='Blues', xticklabels=['Predicted Low Vol', 'Predicted High Vol'], yticklabels=['Actual Low Vol', 'Actual High Vol'])\n",
    "plt.title('Confusion Matrix')\n",
    "plt.show()\n"
   ]
  },
  {
   "cell_type": "markdown",
   "id": "176cf5cc-4559-41a0-afb3-14addd325ea9",
   "metadata": {},
   "source": [
    "## Part 2: New Classification Analysis"
   ]
  },
  {
   "cell_type": "code",
   "execution_count": 25,
   "id": "affd4f9f-9688-4489-bc4d-619d201e9f44",
   "metadata": {},
   "outputs": [],
   "source": [
    "# Import libraries for classification\n",
    "from sklearn.model_selection import train_test_split\n",
    "from sklearn.linear_model import LogisticRegression\n",
    "from sklearn.metrics import accuracy_score, confusion_matrix\n",
    "import seaborn as sns\n",
    "import matplotlib.pyplot as plt\n",
    "\n"
   ]
  },
  {
   "cell_type": "code",
   "execution_count": 27,
   "id": "0ce51b4e-c265-4432-9ee3-f3c152e3e8e4",
   "metadata": {},
   "outputs": [
    {
     "name": "stdout",
     "output_type": "stream",
     "text": [
      "Training set size: 967 samples\n",
      "Testing set size: 242 samples\n",
      "\n",
      "Model Accuracy on Test Data: 51.65%\n",
      "\n",
      "--- Confusion Matrix ---\n"
     ]
    },
    {
     "data": {
      "image/png": "[encoded data removed]",
      "text/plain": [
       "<Figure size 640x480 with 2 Axes>"
      ]
     },
     "metadata": {},
     "output_type": "display_data"
    }
   ],
   "source": [
    "# --- Define our variables ---\n",
    "# y is our target: Is it a high volatility day (1) or not (0)?\n",
    "y_class = df['Is_High_Volatility']\n",
    "# X is our feature: What was the percentage change in volume yesterday?\n",
    "X_class = df[['Volume_Change_Lag1']] \n",
    "\n",
    "# --- Prepare the data ---\n",
    "# Combine them and drop any rows with missing values to ensure they align.\n",
    "df_class = pd.concat([y_class, X_class], axis=1).dropna()\n",
    "y_class = df_class['Is_High_Volatility']\n",
    "X_class = df_class[['Volume_Change_Lag1']]\n",
    "\n",
    "# --- Split data into training and testing sets ---\n",
    "# We'll train the model on 80% of the data and test it on the remaining 20%.\n",
    "X_train, X_test, y_train, y_test = train_test_split(X_class, y_class, test_size=0.2, random_state=42)\n",
    "\n",
    "print(f\"Training set size: {len(X_train)} samples\")\n",
    "print(f\"Testing set size: {len(X_test)} samples\")\n",
    "\n",
    "# --- Build and train the Logistic Regression model ---\n",
    "# This type of model is used for predicting a category (like 0 or 1).\n",
    "model_class = LogisticRegression()\n",
    "model_class.fit(X_train, y_train)\n",
    "\n",
    "# --- Evaluate the model on the unseen test data ---\n",
    "y_pred = model_class.predict(X_test)\n",
    "accuracy = accuracy_score(y_test, y_pred)\n",
    "print(f\"\\nModel Accuracy on Test Data: {accuracy:.2%}\")\n",
    "\n",
    "# --- Visualize the results with a Confusion Matrix ---\n",
    "print(\"\\n--- Confusion Matrix ---\")\n",
    "cm = confusion_matrix(y_test, y_pred)\n",
    "sns.heatmap(cm, annot=True, fmt='d', cmap='Blues', \n",
    "            xticklabels=['Predicted Low Vol', 'Predicted High Vol'], \n",
    "            yticklabels=['Actual Low Vol', 'Actual High Vol'])\n",
    "plt.title('Confusion Matrix')\n",
    "plt.show()"
   ]
  },
  {
   "cell_type": "code",
   "execution_count": null,
   "id": "0184ede7-7c9c-4ba6-b387-7567aaa50e2a",
   "metadata": {},
   "outputs": [],
   "source": []
  }
 ],
 "metadata": {
  "kernelspec": {
   "display_name": "Python [conda env:base] *",
   "language": "python",
   "name": "conda-base-py"
  },
  "language_info": {
   "codemirror_mode": {
    "name": "ipython",
    "version": 3
   },
   "file_extension": ".py",
   "mimetype": "text/x-python",
   "name": "python",
   "nbconvert_exporter": "python",
   "pygments_lexer": "ipython3",
   "version": "3.12.7"
  }
 },
 "nbformat": 4,
 "nbformat_minor": 5
}
