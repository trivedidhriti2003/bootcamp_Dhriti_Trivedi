{
 "cells": [
  {
   "cell_type": "markdown",
   "id": "693b39bb-8bd6-43cc-96ef-78698cdbaba3",
   "metadata": {},
   "source": [
    "# Feature Engineering"
   ]
  },
  {
   "cell_type": "code",
   "execution_count": 8,
   "id": "cf775a04-2aae-47b2-bb22-1243d34b73fe",
   "metadata": {},
   "outputs": [
    {
     "name": "stdout",
     "output_type": "stream",
     "text": [
      "Cleaned dataset loaded successfully!\n"
     ]
    }
   ],
   "source": [
    "# Import necessary libraries\n",
    "import pandas as pd\n",
    "import numpy as np\n",
    "import os # Import the os library to handle file paths\n",
    "\n",
    "# --- Cell 1: Load the Cleaned Data ---\n",
    "# Define the full path to your cleaned CSV file from the 'processed' folder.\n",
    "cleaned_file_path = r\"C:\\Users\\DELL\\bootcamp_Dhriti_Trivedi\\Project\\Data\\processed\\yahoo_data_cleaned.csv\"\n",
    "\n",
    "try:\n",
    "    df = pd.read_csv(cleaned_file_path, index_col='Date', parse_dates=True)\n",
    "    print(\"Cleaned dataset loaded successfully!\")\n",
    "except FileNotFoundError:\n",
    "    print(f\"Error: The file was not found at the path: {cleaned_file_path}\")\n",
    "    exit()\n"
   ]
  },
  {
   "cell_type": "code",
   "execution_count": 10,
   "id": "40786848-3da0-4d96-a630-6559a830e284",
   "metadata": {},
   "outputs": [
    {
     "name": "stdout",
     "output_type": "stream",
     "text": [
      "\n",
      "--- Calculated Daily Returns (%) ---\n",
      "            Adj Close  Daily_Return\n",
      "Date                               \n",
      "2018-05-01   24099.05           NaN\n",
      "2018-05-02   23924.98     -0.722311\n",
      "2018-05-03   23930.15      0.021609\n",
      "2018-05-04   24262.51      1.388876\n",
      "2018-05-07   24357.32      0.390767\n"
     ]
    }
   ],
   "source": [
    "# --- Cell 2: Calculate Daily Returns ---\n",
    "# The daily return is the percentage change in the closing price from one day to the next.\n",
    "df['Daily_Return'] = df['Adj Close'].pct_change() * 100\n",
    "print(\"\\n--- Calculated Daily Returns (%) ---\")\n",
    "print(df[['Adj Close', 'Daily_Return']].head())"
   ]
  },
  {
   "cell_type": "code",
   "execution_count": 12,
   "id": "16bdd491-3b75-4ceb-8f04-62c2df0a73d7",
   "metadata": {},
   "outputs": [
    {
     "name": "stdout",
     "output_type": "stream",
     "text": [
      "\n",
      "--- Calculated Volume Change (%) ---\n",
      "               Volume  Volume_Change\n",
      "Date                                \n",
      "2018-05-01  380070000            NaN\n",
      "2018-05-02  385350000       1.389218\n",
      "2018-05-03  389240000       1.009472\n",
      "2018-05-04  329480000     -15.352996\n",
      "2018-05-07  307670000      -6.619522\n"
     ]
    }
   ],
   "source": [
    "# --- Cell 3: Calculate Volume Change ---\n",
    "# We calculate the percentage change in trading volume.\n",
    "df['Volume_Change'] = df['Volume'].pct_change() * 100\n",
    "print(\"\\n--- Calculated Volume Change (%) ---\")\n",
    "print(df[['Volume', 'Volume_Change']].head())"
   ]
  },
  {
   "cell_type": "code",
   "execution_count": 14,
   "id": "e66b9532-4198-4c78-bd77-f639eedb4bf9",
   "metadata": {},
   "outputs": [
    {
     "name": "stdout",
     "output_type": "stream",
     "text": [
      "\n",
      "--- Created Lagged Volume Change ---\n",
      "            Volume_Change  Volume_Change_Lag1\n",
      "Date                                         \n",
      "2018-05-01            NaN                 NaN\n",
      "2018-05-02       1.389218                 NaN\n",
      "2018-05-03       1.009472            1.389218\n",
      "2018-05-04     -15.352996            1.009472\n",
      "2018-05-07      -6.619522          -15.352996\n"
     ]
    }
   ],
   "source": [
    "# --- Cell 4: Create Lagged Features ---\n",
    "# Does yesterday's volume change affect today's return? We create a \"lagged\" feature.\n",
    "df['Volume_Change_Lag1'] = df['Volume_Change'].shift(1)\n",
    "print(\"\\n--- Created Lagged Volume Change ---\")\n",
    "print(df[['Volume_Change', 'Volume_Change_Lag1']].head())"
   ]
  },
  {
   "cell_type": "code",
   "execution_count": 16,
   "id": "2e798233-2189-4bf2-9263-7c5fbfd681f8",
   "metadata": {},
   "outputs": [
    {
     "name": "stdout",
     "output_type": "stream",
     "text": [
      "\n",
      "--- Final Dataset for Modeling ---\n",
      "                Open      High       Low     Close  Adj Close     Volume  \\\n",
      "Date                                                                       \n",
      "2018-05-03  23836.23  23996.15  23531.31  23930.15   23930.15  389240000   \n",
      "2018-05-04  23865.22  24333.35  23778.87  24262.51   24262.51  329480000   \n",
      "2018-05-07  24317.66  24479.45  24263.42  24357.32   24357.32  307670000   \n",
      "2018-05-08  24341.35  24412.34  24198.34  24360.21   24360.21  344940000   \n",
      "2018-05-09  24399.18  24586.48  24323.87  24542.54   24542.54  361580000   \n",
      "\n",
      "            Daily_Return  Volume_Change  Volume_Change_Lag1  \n",
      "Date                                                         \n",
      "2018-05-03      0.021609       1.009472            1.389218  \n",
      "2018-05-04      1.388876     -15.352996            1.009472  \n",
      "2018-05-07      0.390767      -6.619522          -15.352996  \n",
      "2018-05-08      0.011865      12.113628           -6.619522  \n",
      "2018-05-09      0.748475       4.824027           12.113628  \n"
     ]
    }
   ],
   "source": [
    "# --- Cell 5: Finalize the Feature Set ---\n",
    "# Drop rows with NaN values (the first two rows) to create a clean dataset for modeling.\n",
    "df_model = df.dropna()\n",
    "print(\"\\n--- Final Dataset for Modeling ---\")\n",
    "print(df_model.head())\n"
   ]
  },
  {
   "cell_type": "code",
   "execution_count": 24,
   "id": "ed366922-2935-4385-92ec-dac09d1e8f3f",
   "metadata": {},
   "outputs": [
    {
     "name": "stdout",
     "output_type": "stream",
     "text": [
      "\n",
      " Dataset with engineered features saved to: C:\\Users\\DELL\\bootcamp_Dhriti_Trivedi\\Project\\Data\\processed\\yahoo_data_features.csv\n"
     ]
    }
   ],
   "source": [
    "# --- Save the Final Engineered Features ---\n",
    "# Define the folder where you want to save the output.\n",
    "output_folder = r\"C:\\Users\\DELL\\bootcamp_Dhriti_Trivedi\\Project\\Data\\processed\"\n",
    "# Create the full path for the new features file.\n",
    "output_file_path = os.path.join(output_folder, 'yahoo_data_features.csv')\n",
    "\n",
    "# Save the final DataFrame to a new CSV file in your 'processed' folder.\n",
    "df_model.to_csv(output_file_path)\n",
    "print(f\"\\n Dataset with engineered features saved to: {output_file_path}\")"
   ]
  }
 ],
 "metadata": {
  "kernelspec": {
   "display_name": "Python [conda env:base] *",
   "language": "python",
   "name": "conda-base-py"
  },
  "language_info": {
   "codemirror_mode": {
    "name": "ipython",
    "version": 3
   },
   "file_extension": ".py",
   "mimetype": "text/x-python",
   "name": "python",
   "nbconvert_exporter": "python",
   "pygments_lexer": "ipython3",
   "version": "3.12.7"
  }
 },
 "nbformat": 4,
 "nbformat_minor": 5
}
