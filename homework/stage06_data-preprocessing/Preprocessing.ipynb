{
 "cells": [
  {
   "cell_type": "code",
   "execution_count": 3,
   "id": "f5be7f02-da56-4811-97b8-3cde1ce947bd",
   "metadata": {},
   "outputs": [
    {
     "name": "stdout",
     "output_type": "stream",
     "text": [
      "Dataset loaded successfully!\n",
      "Original Data Head:\n"
     ]
    },
    {
     "data": {
      "text/html": [
       "<div>\n",
       "<style scoped>\n",
       "    .dataframe tbody tr th:only-of-type {\n",
       "        vertical-align: middle;\n",
       "    }\n",
       "\n",
       "    .dataframe tbody tr th {\n",
       "        vertical-align: top;\n",
       "    }\n",
       "\n",
       "    .dataframe thead th {\n",
       "        text-align: right;\n",
       "    }\n",
       "</style>\n",
       "<table border=\"1\" class=\"dataframe\">\n",
       "  <thead>\n",
       "    <tr style=\"text-align: right;\">\n",
       "      <th></th>\n",
       "      <th>id</th>\n",
       "      <th>name</th>\n",
       "      <th>value</th>\n",
       "      <th>is_active</th>\n",
       "    </tr>\n",
       "  </thead>\n",
       "  <tbody>\n",
       "    <tr>\n",
       "      <th>0</th>\n",
       "      <td>1</td>\n",
       "      <td>Alice</td>\n",
       "      <td>10.5</td>\n",
       "      <td>True</td>\n",
       "    </tr>\n",
       "    <tr>\n",
       "      <th>1</th>\n",
       "      <td>2</td>\n",
       "      <td>Bob</td>\n",
       "      <td>20.2</td>\n",
       "      <td>False</td>\n",
       "    </tr>\n",
       "    <tr>\n",
       "      <th>2</th>\n",
       "      <td>3</td>\n",
       "      <td>Charlie</td>\n",
       "      <td>30.7</td>\n",
       "      <td>True</td>\n",
       "    </tr>\n",
       "    <tr>\n",
       "      <th>3</th>\n",
       "      <td>4</td>\n",
       "      <td>David</td>\n",
       "      <td>40.1</td>\n",
       "      <td>False</td>\n",
       "    </tr>\n",
       "  </tbody>\n",
       "</table>\n",
       "</div>"
      ],
      "text/plain": [
       "   id     name  value  is_active\n",
       "0   1    Alice   10.5       True\n",
       "1   2      Bob   20.2      False\n",
       "2   3  Charlie   30.7       True\n",
       "3   4    David   40.1      False"
      ]
     },
     "execution_count": 3,
     "metadata": {},
     "output_type": "execute_result"
    }
   ],
   "source": [
    "# Import necessary libraries\n",
    "import pandas as pd\n",
    "import numpy as np # Often useful for data manipulation\n",
    "import sys\n",
    "\n",
    "# Add the 'src' folder to our path so we can import our functions\n",
    "sys.path.append('src')\n",
    "\n",
    "# Import our custom cleaning functions\n",
    "from cleaning import fill_missing_median, drop_missing, normalize_data\n",
    "\n",
    "# Load the raw dataset\n",
    "# Make sure your dataset is in the 'data/raw/' folder\n",
    "try:\n",
    "    df_raw = pd.read_csv('data/raw/sample_data.csv')\n",
    "    print(\"Dataset loaded successfully!\")\n",
    "except FileNotFoundError:\n",
    "    print(\"Error: Make sure 'sample_data.csv' is in the 'data/raw/' folder.\")\n",
    "\n",
    "# Display the first few rows to see what it looks like\n",
    "print(\"Original Data Head:\")\n",
    "df_raw.head()"
   ]
  },
  {
   "cell_type": "code",
   "execution_count": 21,
   "id": "cfe9884a-8555-41d7-b7e5-b072b82be6e6",
   "metadata": {},
   "outputs": [
    {
     "name": "stdout",
     "output_type": "stream",
     "text": [
      "No columns exceeded the missing value threshold.\n",
      "Filled missing values in columns: ['value'] using the median.\n",
      "Normalized columns: ['value']\n",
      "\n",
      "Cleaning process complete!\n"
     ]
    },
    {
     "name": "stderr",
     "output_type": "stream",
     "text": [
      "C:\\Users\\DELL\\bootcamp_Dhriti_Trivedi\\homework\\homework6\\src\\cleaning.py:27: FutureWarning: A value is trying to be set on a copy of a DataFrame or Series through chained assignment using an inplace method.\n",
      "The behavior will change in pandas 3.0. This inplace method will never work because the intermediate object on which we are setting values always behaves as a copy.\n",
      "\n",
      "For example, when doing 'df[col].method(value, inplace=True)', try using 'df.method({col: value}, inplace=True)' or df[col] = df[col].method(value) instead, to perform the operation inplace on the original object.\n",
      "\n",
      "\n",
      "  df_cleaned[col].fillna(median_val, inplace=True)\n"
     ]
    }
   ],
   "source": [
    "# --- Assumption 1: We decide to drop any column that is more than 50% empty. ---\n",
    "# Such columns likely don't have enough data to be useful.\n",
    "df_cleaned = drop_missing(df_raw, threshold=0.5)\n",
    "\n",
    "# --- Assumption 2: For 'Age' and 'Salary', missing values can be reasonably ---\n",
    "# --- represented by the median of the existing values. We choose median ---\n",
    "# --- over mean to avoid being skewed by extreme outliers. ---\n",
    "# Replace with your actual column names that have missing values\n",
    "columns_to_fill = ['value']# <--- CHANGE THESE to your column names\n",
    "df_cleaned = fill_missing_median(df_cleaned, columns=columns_to_fill)\n",
    "\n",
    "# --- Assumption 3: 'Age' and 'Salary' should be on the same scale (0 to 1) ---\n",
    "# --- for future machine learning models. This prevents one feature from ---\n",
    "# --- dominating the other. ---\n",
    "columns_to_normalize = ['value'] # <--- CHANGE THESE to your column names\n",
    "df_cleaned = normalize_data(df_cleaned, columns=columns_to_normalize)\n",
    "\n",
    "print(\"\\nCleaning process complete!\")"
   ]
  },
  {
   "cell_type": "code",
   "execution_count": 23,
   "id": "277b2153-639e-4653-8a5d-868471e24653",
   "metadata": {},
   "outputs": [
    {
     "name": "stdout",
     "output_type": "stream",
     "text": [
      "--- Original Data Description ---\n",
      "             id      value\n",
      "count  4.000000   4.000000\n",
      "mean   2.500000  25.375000\n",
      "std    1.290994  12.822214\n",
      "min    1.000000  10.500000\n",
      "25%    1.750000  17.775000\n",
      "50%    2.500000  25.450000\n",
      "75%    3.250000  33.050000\n",
      "max    4.000000  40.100000\n",
      "\n",
      "--- Cleaned Data Description ---\n",
      "             id     value\n",
      "count  4.000000  4.000000\n",
      "mean   2.500000  0.502534\n",
      "std    1.290994  0.433183\n",
      "min    1.000000  0.000000\n",
      "25%    1.750000  0.245777\n",
      "50%    2.500000  0.505068\n",
      "75%    3.250000  0.761824\n",
      "max    4.000000  1.000000\n",
      "\n",
      "--- Cleaned Data Head ---\n"
     ]
    },
    {
     "data": {
      "text/html": [
       "<div>\n",
       "<style scoped>\n",
       "    .dataframe tbody tr th:only-of-type {\n",
       "        vertical-align: middle;\n",
       "    }\n",
       "\n",
       "    .dataframe tbody tr th {\n",
       "        vertical-align: top;\n",
       "    }\n",
       "\n",
       "    .dataframe thead th {\n",
       "        text-align: right;\n",
       "    }\n",
       "</style>\n",
       "<table border=\"1\" class=\"dataframe\">\n",
       "  <thead>\n",
       "    <tr style=\"text-align: right;\">\n",
       "      <th></th>\n",
       "      <th>id</th>\n",
       "      <th>name</th>\n",
       "      <th>value</th>\n",
       "      <th>is_active</th>\n",
       "    </tr>\n",
       "  </thead>\n",
       "  <tbody>\n",
       "    <tr>\n",
       "      <th>0</th>\n",
       "      <td>1</td>\n",
       "      <td>Alice</td>\n",
       "      <td>0.000000</td>\n",
       "      <td>True</td>\n",
       "    </tr>\n",
       "    <tr>\n",
       "      <th>1</th>\n",
       "      <td>2</td>\n",
       "      <td>Bob</td>\n",
       "      <td>0.327703</td>\n",
       "      <td>False</td>\n",
       "    </tr>\n",
       "    <tr>\n",
       "      <th>2</th>\n",
       "      <td>3</td>\n",
       "      <td>Charlie</td>\n",
       "      <td>0.682432</td>\n",
       "      <td>True</td>\n",
       "    </tr>\n",
       "    <tr>\n",
       "      <th>3</th>\n",
       "      <td>4</td>\n",
       "      <td>David</td>\n",
       "      <td>1.000000</td>\n",
       "      <td>False</td>\n",
       "    </tr>\n",
       "  </tbody>\n",
       "</table>\n",
       "</div>"
      ],
      "text/plain": [
       "   id     name     value  is_active\n",
       "0   1    Alice  0.000000       True\n",
       "1   2      Bob  0.327703      False\n",
       "2   3  Charlie  0.682432       True\n",
       "3   4    David  1.000000      False"
      ]
     },
     "execution_count": 23,
     "metadata": {},
     "output_type": "execute_result"
    }
   ],
   "source": [
    "print(\"--- Original Data Description ---\")\n",
    "print(df_raw.describe())\n",
    "\n",
    "print(\"\\n--- Cleaned Data Description ---\")\n",
    "print(df_cleaned.describe())\n",
    "\n",
    "print(\"\\n--- Cleaned Data Head ---\")\n",
    "df_cleaned.head()"
   ]
  },
  {
   "cell_type": "code",
   "execution_count": 25,
   "id": "30f83d69-211a-4a2e-bcb3-6292138ba3a8",
   "metadata": {},
   "outputs": [
    {
     "name": "stdout",
     "output_type": "stream",
     "text": [
      "Cleaned dataset saved to: data/processed/cleaned_data.csv\n"
     ]
    }
   ],
   "source": [
    "# Define the output path\n",
    "output_path = 'data/processed/cleaned_data.csv'\n",
    "\n",
    "# Save the cleaned DataFrame to a new CSV file\n",
    "df_cleaned.to_csv(output_path, index=False)\n",
    "\n",
    "print(f\"Cleaned dataset saved to: {output_path}\")"
   ]
  },
  {
   "cell_type": "code",
   "execution_count": null,
   "id": "6418b2e3-cf35-477d-a279-eaf147098678",
   "metadata": {},
   "outputs": [],
   "source": []
  }
 ],
 "metadata": {
  "kernelspec": {
   "display_name": "Python [conda env:base] *",
   "language": "python",
   "name": "conda-base-py"
  },
  "language_info": {
   "codemirror_mode": {
    "name": "ipython",
    "version": 3
   },
   "file_extension": ".py",
   "mimetype": "text/x-python",
   "name": "python",
   "nbconvert_exporter": "python",
   "pygments_lexer": "ipython3",
   "version": "3.12.7"
  }
 },
 "nbformat": 4,
 "nbformat_minor": 5
}
