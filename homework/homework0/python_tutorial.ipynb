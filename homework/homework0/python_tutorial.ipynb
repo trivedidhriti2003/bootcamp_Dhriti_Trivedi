{
 "cells": [
  {
   "cell_type": "code",
   "execution_count": 1,
   "id": "3e1f3d6d-8200-4c1c-9924-773e4f08581f",
   "metadata": {},
   "outputs": [
    {
     "name": "stdout",
     "output_type": "stream",
     "text": [
      "Hello, Bootcamp!\n"
     ]
    }
   ],
   "source": [
    "print(\"Hello, Bootcamp!\") "
   ]
  },
  {
   "cell_type": "code",
   "execution_count": null,
   "id": "9108797b-1a02-472b-9f93-4940dd7e6f73",
   "metadata": {},
   "outputs": [],
   "source": []
  }
 ],
 "metadata": {
  "kernelspec": {
   "display_name": "Python 3 (ipykernel)",
   "language": "python",
   "name": "python3"
  },
  "language_info": {
   "codemirror_mode": {
    "name": "ipython",
    "version": 3
   },
   "file_extension": ".py",
   "mimetype": "text/x-python",
   "name": "python",
   "nbconvert_exporter": "python",
   "pygments_lexer": "ipython3",
   "version": "3.10.18"
  }
 },
 "nbformat": 4,
 "nbformat_minor": 5
}
