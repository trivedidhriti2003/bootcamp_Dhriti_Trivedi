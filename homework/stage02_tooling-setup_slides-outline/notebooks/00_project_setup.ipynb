{
 "cells": [
  {
   "cell_type": "markdown",
   "id": "cd3f81e8-3a7f-4f00-894a-6c96a4a42c16",
   "metadata": {},
   "source": [
    "# Environment & Config Check"
   ]
  },
  {
   "cell_type": "code",
   "execution_count": 2,
   "id": "f752b547-bbd4-480d-a662-caf4b5824fca",
   "metadata": {},
   "outputs": [
    {
     "name": "stdout",
     "output_type": "stream",
     "text": [
      "Successfully loaded API_KEY.\n",
      "Numpy test successful. Array sum: 6\n"
     ]
    }
   ],
   "source": [
    "# This allows us to import from the src folder\n",
    "import sys\n",
    "sys.path.append('../src')\n",
    "\n",
    "# Import our helper functions\n",
    "from config import load_env, get_key\n",
    "\n",
    "# Load the environment variables\n",
    "load_env()\n",
    "\n",
    "# Check if the API_KEY exists\n",
    "API_KEY = get_key(\"API_KEY\")\n",
    "if API_KEY:\n",
    "    print(\"Successfully loaded API_KEY.\")\n",
    "else:\n",
    "    print(\"Failed to load API_KEY.\")\n",
    "\n",
    "# Import numpy and run a small array operation\n",
    "import numpy as np\n",
    "my_array = np.array([1, 2, 3])\n",
    "print(f\"Numpy test successful. Array sum: {my_array.sum()}\")"
   ]
  },
  {
   "cell_type": "code",
   "execution_count": null,
   "id": "8c6c1b38-7338-4337-9cb1-a9a0dfbe4172",
   "metadata": {},
   "outputs": [],
   "source": []
  }
 ],
 "metadata": {
  "kernelspec": {
   "display_name": "Python [conda env:fe-course]",
   "language": "python",
   "name": "conda-env-fe-course-py"
  },
  "language_info": {
   "codemirror_mode": {
    "name": "ipython",
    "version": 3
   },
   "file_extension": ".py",
   "mimetype": "text/x-python",
   "name": "python",
   "nbconvert_exporter": "python",
   "pygments_lexer": "ipython3",
   "version": "3.11.13"
  }
 },
 "nbformat": 4,
 "nbformat_minor": 5
}
